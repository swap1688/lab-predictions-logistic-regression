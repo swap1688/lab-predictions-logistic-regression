{
 "cells": [
  {
   "cell_type": "code",
   "execution_count": 1,
   "id": "000363af",
   "metadata": {},
   "outputs": [
    {
     "name": "stdout",
     "output_type": "stream",
     "text": [
      "········\n"
     ]
    }
   ],
   "source": [
    "import pymysql\n",
    "from sqlalchemy import create_engine\n",
    "import pandas as pd\n",
    "import getpass  # To get the password without showing the input\n",
    "from sklearn.preprocessing import StandardScaler\n",
    "import numpy as np\n",
    "import matplotlib.pyplot as plt\n",
    "from sklearn.model_selection import train_test_split\n",
    "from sklearn.linear_model import LogisticRegression\n",
    "import seaborn as sns\n",
    "import warnings\n",
    "warnings.filterwarnings(\"ignore\")\n",
    "\n",
    "#%matplotlib inline\n",
    "password = getpass.getpass()\n",
    "connection_string = 'mysql+pymysql://root:' + password + '@localhost/sakila'\n",
    "engine = create_engine(connection_string)"
   ]
  },
  {
   "cell_type": "markdown",
   "id": "77a7768b",
   "metadata": {},
   "source": [
    "---------------------------------------------------------------------------------------------------------------------------"
   ]
  },
  {
   "cell_type": "markdown",
   "id": "9fec979e",
   "metadata": {},
   "source": [
    "#### 1. Create a query or queries to extract the information you think may be relevant for building the prediction model. It should include some film features and some rental features."
   ]
  },
  {
   "cell_type": "code",
   "execution_count": 2,
   "id": "2d251e1d",
   "metadata": {},
   "outputs": [],
   "source": [
    "query1 = '''\n",
    "select f.film_id,count(r.rental_id) as f_total_rentals,f.rating,f.replacement_cost, MONTH(r.rental_date) as rental_month, \n",
    "YEAR(rental_date) as rental_year\n",
    "from film f\n",
    "inner join inventory i\n",
    "on f.film_id=i.film_id\n",
    "inner join rental r\n",
    "on r.inventory_id=i.inventory_id\n",
    "where rental_date like '2006%%'\n",
    "group by f.film_id\n",
    "order by f.film_id;'''"
   ]
  },
  {
   "cell_type": "code",
   "execution_count": 3,
   "id": "2304280e",
   "metadata": {},
   "outputs": [],
   "source": [
    "query2 = '''\n",
    "select f.film_id,count(r.rental_id) as f_total_rentals,f.rating,f.replacement_cost, MONTH(r.rental_date) as rental_month, \n",
    "YEAR(rental_date) as rental_year\n",
    "from film f\n",
    "inner join inventory i\n",
    "on f.film_id=i.film_id\n",
    "inner join rental r\n",
    "on r.inventory_id=i.inventory_id\n",
    "where rental_date like '2005%%'\n",
    "group by f.film_id\n",
    "order by f.film_id;'''"
   ]
  },
  {
   "cell_type": "markdown",
   "id": "c39efc92",
   "metadata": {},
   "source": [
    "---------------------------------------------------------------------------------------------------------------------------"
   ]
  },
  {
   "cell_type": "markdown",
   "id": "79e206a1",
   "metadata": {},
   "source": [
    "#### 2. Read the data into a Pandas dataframe."
   ]
  },
  {
   "cell_type": "code",
   "execution_count": 4,
   "id": "b747dfbd",
   "metadata": {},
   "outputs": [
    {
     "data": {
      "text/html": [
       "<div>\n",
       "<style scoped>\n",
       "    .dataframe tbody tr th:only-of-type {\n",
       "        vertical-align: middle;\n",
       "    }\n",
       "\n",
       "    .dataframe tbody tr th {\n",
       "        vertical-align: top;\n",
       "    }\n",
       "\n",
       "    .dataframe thead th {\n",
       "        text-align: right;\n",
       "    }\n",
       "</style>\n",
       "<table border=\"1\" class=\"dataframe\">\n",
       "  <thead>\n",
       "    <tr style=\"text-align: right;\">\n",
       "      <th></th>\n",
       "      <th>film_id</th>\n",
       "      <th>f_total_rentals</th>\n",
       "      <th>rating</th>\n",
       "      <th>replacement_cost</th>\n",
       "      <th>rental_month</th>\n",
       "      <th>rental_year</th>\n",
       "    </tr>\n",
       "  </thead>\n",
       "  <tbody>\n",
       "    <tr>\n",
       "      <th>0</th>\n",
       "      <td>2</td>\n",
       "      <td>1</td>\n",
       "      <td>G</td>\n",
       "      <td>12.99</td>\n",
       "      <td>2</td>\n",
       "      <td>2006</td>\n",
       "    </tr>\n",
       "    <tr>\n",
       "      <th>1</th>\n",
       "      <td>4</td>\n",
       "      <td>1</td>\n",
       "      <td>G</td>\n",
       "      <td>26.99</td>\n",
       "      <td>2</td>\n",
       "      <td>2006</td>\n",
       "    </tr>\n",
       "    <tr>\n",
       "      <th>2</th>\n",
       "      <td>5</td>\n",
       "      <td>1</td>\n",
       "      <td>G</td>\n",
       "      <td>22.99</td>\n",
       "      <td>2</td>\n",
       "      <td>2006</td>\n",
       "    </tr>\n",
       "    <tr>\n",
       "      <th>3</th>\n",
       "      <td>13</td>\n",
       "      <td>1</td>\n",
       "      <td>PG</td>\n",
       "      <td>21.99</td>\n",
       "      <td>2</td>\n",
       "      <td>2006</td>\n",
       "    </tr>\n",
       "    <tr>\n",
       "      <th>4</th>\n",
       "      <td>17</td>\n",
       "      <td>1</td>\n",
       "      <td>R</td>\n",
       "      <td>14.99</td>\n",
       "      <td>2</td>\n",
       "      <td>2006</td>\n",
       "    </tr>\n",
       "  </tbody>\n",
       "</table>\n",
       "</div>"
      ],
      "text/plain": [
       "   film_id  f_total_rentals rating  replacement_cost  rental_month  \\\n",
       "0        2                1      G             12.99             2   \n",
       "1        4                1      G             26.99             2   \n",
       "2        5                1      G             22.99             2   \n",
       "3       13                1     PG             21.99             2   \n",
       "4       17                1      R             14.99             2   \n",
       "\n",
       "   rental_year  \n",
       "0         2006  \n",
       "1         2006  \n",
       "2         2006  \n",
       "3         2006  \n",
       "4         2006  "
      ]
     },
     "execution_count": 4,
     "metadata": {},
     "output_type": "execute_result"
    }
   ],
   "source": [
    "data1 = pd.read_sql_query(query1, engine)\n",
    "data1.head()"
   ]
  },
  {
   "cell_type": "code",
   "execution_count": 5,
   "id": "4349fe3a",
   "metadata": {},
   "outputs": [
    {
     "data": {
      "text/plain": [
       "(168, 6)"
      ]
     },
     "execution_count": 5,
     "metadata": {},
     "output_type": "execute_result"
    }
   ],
   "source": [
    "data1.shape"
   ]
  },
  {
   "cell_type": "code",
   "execution_count": 6,
   "id": "894b1eb8",
   "metadata": {
    "scrolled": true
   },
   "outputs": [
    {
     "data": {
      "text/html": [
       "<div>\n",
       "<style scoped>\n",
       "    .dataframe tbody tr th:only-of-type {\n",
       "        vertical-align: middle;\n",
       "    }\n",
       "\n",
       "    .dataframe tbody tr th {\n",
       "        vertical-align: top;\n",
       "    }\n",
       "\n",
       "    .dataframe thead th {\n",
       "        text-align: right;\n",
       "    }\n",
       "</style>\n",
       "<table border=\"1\" class=\"dataframe\">\n",
       "  <thead>\n",
       "    <tr style=\"text-align: right;\">\n",
       "      <th></th>\n",
       "      <th>film_id</th>\n",
       "      <th>f_total_rentals</th>\n",
       "      <th>rating</th>\n",
       "      <th>replacement_cost</th>\n",
       "      <th>rental_month</th>\n",
       "      <th>rental_year</th>\n",
       "    </tr>\n",
       "  </thead>\n",
       "  <tbody>\n",
       "    <tr>\n",
       "      <th>0</th>\n",
       "      <td>1</td>\n",
       "      <td>23</td>\n",
       "      <td>PG</td>\n",
       "      <td>20.99</td>\n",
       "      <td>5</td>\n",
       "      <td>2005</td>\n",
       "    </tr>\n",
       "    <tr>\n",
       "      <th>1</th>\n",
       "      <td>2</td>\n",
       "      <td>6</td>\n",
       "      <td>G</td>\n",
       "      <td>12.99</td>\n",
       "      <td>7</td>\n",
       "      <td>2005</td>\n",
       "    </tr>\n",
       "    <tr>\n",
       "      <th>2</th>\n",
       "      <td>3</td>\n",
       "      <td>12</td>\n",
       "      <td>NC-17</td>\n",
       "      <td>18.99</td>\n",
       "      <td>5</td>\n",
       "      <td>2005</td>\n",
       "    </tr>\n",
       "    <tr>\n",
       "      <th>3</th>\n",
       "      <td>4</td>\n",
       "      <td>22</td>\n",
       "      <td>G</td>\n",
       "      <td>26.99</td>\n",
       "      <td>5</td>\n",
       "      <td>2005</td>\n",
       "    </tr>\n",
       "    <tr>\n",
       "      <th>4</th>\n",
       "      <td>5</td>\n",
       "      <td>11</td>\n",
       "      <td>G</td>\n",
       "      <td>22.99</td>\n",
       "      <td>5</td>\n",
       "      <td>2005</td>\n",
       "    </tr>\n",
       "  </tbody>\n",
       "</table>\n",
       "</div>"
      ],
      "text/plain": [
       "   film_id  f_total_rentals rating  replacement_cost  rental_month  \\\n",
       "0        1               23     PG             20.99             5   \n",
       "1        2                6      G             12.99             7   \n",
       "2        3               12  NC-17             18.99             5   \n",
       "3        4               22      G             26.99             5   \n",
       "4        5               11      G             22.99             5   \n",
       "\n",
       "   rental_year  \n",
       "0         2005  \n",
       "1         2005  \n",
       "2         2005  \n",
       "3         2005  \n",
       "4         2005  "
      ]
     },
     "execution_count": 6,
     "metadata": {},
     "output_type": "execute_result"
    }
   ],
   "source": [
    "data2 = pd.read_sql_query(query2, engine)\n",
    "data2.head()"
   ]
  },
  {
   "cell_type": "code",
   "execution_count": 7,
   "id": "8b80d3a4",
   "metadata": {},
   "outputs": [
    {
     "data": {
      "text/plain": [
       "(958, 6)"
      ]
     },
     "execution_count": 7,
     "metadata": {},
     "output_type": "execute_result"
    }
   ],
   "source": [
    "data2.shape"
   ]
  },
  {
   "cell_type": "markdown",
   "id": "e1426a50",
   "metadata": {},
   "source": [
    " - **Concating the dataframes to get the final data frame**"
   ]
  },
  {
   "cell_type": "code",
   "execution_count": 32,
   "id": "36b0485d",
   "metadata": {},
   "outputs": [
    {
     "data": {
      "text/html": [
       "<div>\n",
       "<style scoped>\n",
       "    .dataframe tbody tr th:only-of-type {\n",
       "        vertical-align: middle;\n",
       "    }\n",
       "\n",
       "    .dataframe tbody tr th {\n",
       "        vertical-align: top;\n",
       "    }\n",
       "\n",
       "    .dataframe thead th {\n",
       "        text-align: right;\n",
       "    }\n",
       "</style>\n",
       "<table border=\"1\" class=\"dataframe\">\n",
       "  <thead>\n",
       "    <tr style=\"text-align: right;\">\n",
       "      <th></th>\n",
       "      <th>film_id</th>\n",
       "      <th>f_total_rentals</th>\n",
       "      <th>rating</th>\n",
       "      <th>replacement_cost</th>\n",
       "      <th>rental_month</th>\n",
       "      <th>rental_year</th>\n",
       "    </tr>\n",
       "  </thead>\n",
       "  <tbody>\n",
       "    <tr>\n",
       "      <th>0</th>\n",
       "      <td>2</td>\n",
       "      <td>1</td>\n",
       "      <td>G</td>\n",
       "      <td>12.99</td>\n",
       "      <td>2</td>\n",
       "      <td>2006</td>\n",
       "    </tr>\n",
       "    <tr>\n",
       "      <th>1</th>\n",
       "      <td>4</td>\n",
       "      <td>1</td>\n",
       "      <td>G</td>\n",
       "      <td>26.99</td>\n",
       "      <td>2</td>\n",
       "      <td>2006</td>\n",
       "    </tr>\n",
       "    <tr>\n",
       "      <th>2</th>\n",
       "      <td>5</td>\n",
       "      <td>1</td>\n",
       "      <td>G</td>\n",
       "      <td>22.99</td>\n",
       "      <td>2</td>\n",
       "      <td>2006</td>\n",
       "    </tr>\n",
       "    <tr>\n",
       "      <th>3</th>\n",
       "      <td>13</td>\n",
       "      <td>1</td>\n",
       "      <td>PG</td>\n",
       "      <td>21.99</td>\n",
       "      <td>2</td>\n",
       "      <td>2006</td>\n",
       "    </tr>\n",
       "    <tr>\n",
       "      <th>4</th>\n",
       "      <td>17</td>\n",
       "      <td>1</td>\n",
       "      <td>R</td>\n",
       "      <td>14.99</td>\n",
       "      <td>2</td>\n",
       "      <td>2006</td>\n",
       "    </tr>\n",
       "  </tbody>\n",
       "</table>\n",
       "</div>"
      ],
      "text/plain": [
       "   film_id  f_total_rentals rating  replacement_cost  rental_month  \\\n",
       "0        2                1      G             12.99             2   \n",
       "1        4                1      G             26.99             2   \n",
       "2        5                1      G             22.99             2   \n",
       "3       13                1     PG             21.99             2   \n",
       "4       17                1      R             14.99             2   \n",
       "\n",
       "   rental_year  \n",
       "0         2006  \n",
       "1         2006  \n",
       "2         2006  \n",
       "3         2006  \n",
       "4         2006  "
      ]
     },
     "execution_count": 32,
     "metadata": {},
     "output_type": "execute_result"
    }
   ],
   "source": [
    "data = pd.concat([data1, data2], ignore_index=True)\n",
    "data.head()"
   ]
  },
  {
   "cell_type": "code",
   "execution_count": 33,
   "id": "84e74322",
   "metadata": {},
   "outputs": [
    {
     "data": {
      "text/plain": [
       "(1126, 6)"
      ]
     },
     "execution_count": 33,
     "metadata": {},
     "output_type": "execute_result"
    }
   ],
   "source": [
    "data.shape"
   ]
  },
  {
   "cell_type": "code",
   "execution_count": 34,
   "id": "36479b21",
   "metadata": {},
   "outputs": [],
   "source": [
    "# shuffle the DataFrame rows\n",
    "data = data.sample(frac=1).reset_index(drop=True)\n",
    "\n",
    "# Here, specifying drop=True prevents .reset_index from creating a column containing the old index entries."
   ]
  },
  {
   "cell_type": "code",
   "execution_count": 35,
   "id": "037fada8",
   "metadata": {},
   "outputs": [
    {
     "data": {
      "text/html": [
       "<div>\n",
       "<style scoped>\n",
       "    .dataframe tbody tr th:only-of-type {\n",
       "        vertical-align: middle;\n",
       "    }\n",
       "\n",
       "    .dataframe tbody tr th {\n",
       "        vertical-align: top;\n",
       "    }\n",
       "\n",
       "    .dataframe thead th {\n",
       "        text-align: right;\n",
       "    }\n",
       "</style>\n",
       "<table border=\"1\" class=\"dataframe\">\n",
       "  <thead>\n",
       "    <tr style=\"text-align: right;\">\n",
       "      <th></th>\n",
       "      <th>film_id</th>\n",
       "      <th>f_total_rentals</th>\n",
       "      <th>rating</th>\n",
       "      <th>replacement_cost</th>\n",
       "      <th>rental_month</th>\n",
       "      <th>rental_year</th>\n",
       "    </tr>\n",
       "  </thead>\n",
       "  <tbody>\n",
       "    <tr>\n",
       "      <th>0</th>\n",
       "      <td>475</td>\n",
       "      <td>6</td>\n",
       "      <td>G</td>\n",
       "      <td>29.99</td>\n",
       "      <td>6</td>\n",
       "      <td>2005</td>\n",
       "    </tr>\n",
       "    <tr>\n",
       "      <th>1</th>\n",
       "      <td>120</td>\n",
       "      <td>9</td>\n",
       "      <td>NC-17</td>\n",
       "      <td>16.99</td>\n",
       "      <td>5</td>\n",
       "      <td>2005</td>\n",
       "    </tr>\n",
       "    <tr>\n",
       "      <th>2</th>\n",
       "      <td>856</td>\n",
       "      <td>25</td>\n",
       "      <td>R</td>\n",
       "      <td>11.99</td>\n",
       "      <td>5</td>\n",
       "      <td>2005</td>\n",
       "    </tr>\n",
       "    <tr>\n",
       "      <th>3</th>\n",
       "      <td>982</td>\n",
       "      <td>1</td>\n",
       "      <td>R</td>\n",
       "      <td>23.99</td>\n",
       "      <td>2</td>\n",
       "      <td>2006</td>\n",
       "    </tr>\n",
       "    <tr>\n",
       "      <th>4</th>\n",
       "      <td>303</td>\n",
       "      <td>26</td>\n",
       "      <td>PG-13</td>\n",
       "      <td>27.99</td>\n",
       "      <td>5</td>\n",
       "      <td>2005</td>\n",
       "    </tr>\n",
       "  </tbody>\n",
       "</table>\n",
       "</div>"
      ],
      "text/plain": [
       "   film_id  f_total_rentals rating  replacement_cost  rental_month  \\\n",
       "0      475                6      G             29.99             6   \n",
       "1      120                9  NC-17             16.99             5   \n",
       "2      856               25      R             11.99             5   \n",
       "3      982                1      R             23.99             2   \n",
       "4      303               26  PG-13             27.99             5   \n",
       "\n",
       "   rental_year  \n",
       "0         2005  \n",
       "1         2005  \n",
       "2         2005  \n",
       "3         2006  \n",
       "4         2005  "
      ]
     },
     "execution_count": 35,
     "metadata": {},
     "output_type": "execute_result"
    }
   ],
   "source": [
    "data.head()"
   ]
  },
  {
   "cell_type": "markdown",
   "id": "b63e5297",
   "metadata": {},
   "source": [
    "###### Another way to shuffle data using sklearn \n",
    "\n",
    " - from sklearn.utils import shuffle\n",
    " - data = shuffle(data)\n",
    " \n",
    "**The above shuffling will not reset the index. so we need to reset indexes after shuffling**\n",
    " - data.reset_index(inplace=True, drop=True)"
   ]
  },
  {
   "cell_type": "markdown",
   "id": "410c904b",
   "metadata": {},
   "source": [
    "---------------------------------------------------------------------------------------------------------------------------"
   ]
  },
  {
   "cell_type": "markdown",
   "id": "3d206231",
   "metadata": {},
   "source": [
    "##### Exploring the data"
   ]
  },
  {
   "cell_type": "code",
   "execution_count": 36,
   "id": "ae5e51cb",
   "metadata": {},
   "outputs": [
    {
     "data": {
      "text/plain": [
       "(1126, 6)"
      ]
     },
     "execution_count": 36,
     "metadata": {},
     "output_type": "execute_result"
    }
   ],
   "source": [
    "data.shape"
   ]
  },
  {
   "cell_type": "markdown",
   "id": "a836d40b",
   "metadata": {},
   "source": [
    " - We are having **1126 rows** and **6 columns**"
   ]
  },
  {
   "cell_type": "code",
   "execution_count": 37,
   "id": "383cde3d",
   "metadata": {},
   "outputs": [
    {
     "name": "stdout",
     "output_type": "stream",
     "text": [
      "<class 'pandas.core.frame.DataFrame'>\n",
      "RangeIndex: 1126 entries, 0 to 1125\n",
      "Data columns (total 6 columns):\n",
      " #   Column            Non-Null Count  Dtype  \n",
      "---  ------            --------------  -----  \n",
      " 0   film_id           1126 non-null   int64  \n",
      " 1   f_total_rentals   1126 non-null   int64  \n",
      " 2   rating            1126 non-null   object \n",
      " 3   replacement_cost  1126 non-null   float64\n",
      " 4   rental_month      1126 non-null   int64  \n",
      " 5   rental_year       1126 non-null   int64  \n",
      "dtypes: float64(1), int64(4), object(1)\n",
      "memory usage: 52.9+ KB\n"
     ]
    }
   ],
   "source": [
    "data.info()"
   ]
  },
  {
   "cell_type": "markdown",
   "id": "ad5910c3",
   "metadata": {},
   "source": [
    " - There are **no null values** in dataframe as we did **inner joins**"
   ]
  },
  {
   "cell_type": "code",
   "execution_count": 38,
   "id": "24fed3e0",
   "metadata": {},
   "outputs": [
    {
     "data": {
      "text/plain": [
       "PG-13    251\n",
       "NC-17    240\n",
       "PG       217\n",
       "R        215\n",
       "G        203\n",
       "Name: rating, dtype: int64"
      ]
     },
     "execution_count": 38,
     "metadata": {},
     "output_type": "execute_result"
    }
   ],
   "source": [
    "data.rating.value_counts()"
   ]
  },
  {
   "cell_type": "markdown",
   "id": "b764a185",
   "metadata": {},
   "source": [
    "##### EDA"
   ]
  },
  {
   "cell_type": "code",
   "execution_count": 39,
   "id": "6adb895b",
   "metadata": {},
   "outputs": [
    {
     "data": {
      "image/png": "[encoded data removed]",
      "text/plain": [
       "<Figure size 720x576 with 2 Axes>"
      ]
     },
     "metadata": {
      "needs_background": "light"
     },
     "output_type": "display_data"
    }
   ],
   "source": [
    "corr_matrix=data.corr(method='pearson')  # default\n",
    "fig, ax = plt.subplots(figsize=(10, 8))\n",
    "ax = sns.heatmap(corr_matrix, annot=True)\n",
    "plt.show()"
   ]
  },
  {
   "cell_type": "code",
   "execution_count": 40,
   "id": "ce900cf5",
   "metadata": {},
   "outputs": [
    {
     "data": {
      "text/plain": [
       "Index(['film_id', 'f_total_rentals', 'rating', 'replacement_cost',\n",
       "       'rental_month', 'rental_year'],\n",
       "      dtype='object')"
      ]
     },
     "execution_count": 40,
     "metadata": {},
     "output_type": "execute_result"
    }
   ],
   "source": [
    "data.columns"
   ]
  },
  {
   "cell_type": "markdown",
   "id": "def7ced4",
   "metadata": {},
   "source": [
    "#### 3. Analyze extracted features and transform them. You may need to encode some categorical variables, or scale numerical variables."
   ]
  },
  {
   "cell_type": "code",
   "execution_count": 41,
   "id": "8dd1ee90",
   "metadata": {},
   "outputs": [
    {
     "data": {
      "text/html": [
       "<div>\n",
       "<style scoped>\n",
       "    .dataframe tbody tr th:only-of-type {\n",
       "        vertical-align: middle;\n",
       "    }\n",
       "\n",
       "    .dataframe tbody tr th {\n",
       "        vertical-align: top;\n",
       "    }\n",
       "\n",
       "    .dataframe thead th {\n",
       "        text-align: right;\n",
       "    }\n",
       "</style>\n",
       "<table border=\"1\" class=\"dataframe\">\n",
       "  <thead>\n",
       "    <tr style=\"text-align: right;\">\n",
       "      <th></th>\n",
       "      <th>film_id</th>\n",
       "      <th>f_total_rentals</th>\n",
       "      <th>rating</th>\n",
       "      <th>replacement_cost</th>\n",
       "      <th>rental_month</th>\n",
       "      <th>rental_year</th>\n",
       "    </tr>\n",
       "  </thead>\n",
       "  <tbody>\n",
       "    <tr>\n",
       "      <th>0</th>\n",
       "      <td>475</td>\n",
       "      <td>6</td>\n",
       "      <td>G</td>\n",
       "      <td>29.99</td>\n",
       "      <td>6</td>\n",
       "      <td>2005</td>\n",
       "    </tr>\n",
       "    <tr>\n",
       "      <th>1</th>\n",
       "      <td>120</td>\n",
       "      <td>9</td>\n",
       "      <td>NC-17</td>\n",
       "      <td>16.99</td>\n",
       "      <td>5</td>\n",
       "      <td>2005</td>\n",
       "    </tr>\n",
       "    <tr>\n",
       "      <th>2</th>\n",
       "      <td>856</td>\n",
       "      <td>25</td>\n",
       "      <td>R</td>\n",
       "      <td>11.99</td>\n",
       "      <td>5</td>\n",
       "      <td>2005</td>\n",
       "    </tr>\n",
       "    <tr>\n",
       "      <th>3</th>\n",
       "      <td>982</td>\n",
       "      <td>1</td>\n",
       "      <td>R</td>\n",
       "      <td>23.99</td>\n",
       "      <td>2</td>\n",
       "      <td>2006</td>\n",
       "    </tr>\n",
       "    <tr>\n",
       "      <th>4</th>\n",
       "      <td>303</td>\n",
       "      <td>26</td>\n",
       "      <td>PG-13</td>\n",
       "      <td>27.99</td>\n",
       "      <td>5</td>\n",
       "      <td>2005</td>\n",
       "    </tr>\n",
       "  </tbody>\n",
       "</table>\n",
       "</div>"
      ],
      "text/plain": [
       "   film_id  f_total_rentals rating  replacement_cost  rental_month  \\\n",
       "0      475                6      G             29.99             6   \n",
       "1      120                9  NC-17             16.99             5   \n",
       "2      856               25      R             11.99             5   \n",
       "3      982                1      R             23.99             2   \n",
       "4      303               26  PG-13             27.99             5   \n",
       "\n",
       "   rental_year  \n",
       "0         2005  \n",
       "1         2005  \n",
       "2         2005  \n",
       "3         2006  \n",
       "4         2005  "
      ]
     },
     "execution_count": 41,
     "metadata": {},
     "output_type": "execute_result"
    }
   ],
   "source": [
    "data.head()"
   ]
  },
  {
   "cell_type": "code",
   "execution_count": 42,
   "id": "013eacaf",
   "metadata": {},
   "outputs": [],
   "source": [
    "# Writing a function to set the target column\n",
    "\n",
    "def f(data):\n",
    "    if data['rental_month'] == 2:\n",
    "        val = 1\n",
    "    else:\n",
    "        val = 0\n",
    "    return val"
   ]
  },
  {
   "cell_type": "code",
   "execution_count": 43,
   "id": "b92bc1b6",
   "metadata": {},
   "outputs": [],
   "source": [
    "data['target'] = data.apply(f, axis=1)"
   ]
  },
  {
   "cell_type": "code",
   "execution_count": 44,
   "id": "9c8eb454",
   "metadata": {},
   "outputs": [
    {
     "data": {
      "text/html": [
       "<div>\n",
       "<style scoped>\n",
       "    .dataframe tbody tr th:only-of-type {\n",
       "        vertical-align: middle;\n",
       "    }\n",
       "\n",
       "    .dataframe tbody tr th {\n",
       "        vertical-align: top;\n",
       "    }\n",
       "\n",
       "    .dataframe thead th {\n",
       "        text-align: right;\n",
       "    }\n",
       "</style>\n",
       "<table border=\"1\" class=\"dataframe\">\n",
       "  <thead>\n",
       "    <tr style=\"text-align: right;\">\n",
       "      <th></th>\n",
       "      <th>film_id</th>\n",
       "      <th>f_total_rentals</th>\n",
       "      <th>rating</th>\n",
       "      <th>replacement_cost</th>\n",
       "      <th>rental_month</th>\n",
       "      <th>rental_year</th>\n",
       "      <th>target</th>\n",
       "    </tr>\n",
       "  </thead>\n",
       "  <tbody>\n",
       "    <tr>\n",
       "      <th>0</th>\n",
       "      <td>475</td>\n",
       "      <td>6</td>\n",
       "      <td>G</td>\n",
       "      <td>29.99</td>\n",
       "      <td>6</td>\n",
       "      <td>2005</td>\n",
       "      <td>0</td>\n",
       "    </tr>\n",
       "    <tr>\n",
       "      <th>1</th>\n",
       "      <td>120</td>\n",
       "      <td>9</td>\n",
       "      <td>NC-17</td>\n",
       "      <td>16.99</td>\n",
       "      <td>5</td>\n",
       "      <td>2005</td>\n",
       "      <td>0</td>\n",
       "    </tr>\n",
       "    <tr>\n",
       "      <th>2</th>\n",
       "      <td>856</td>\n",
       "      <td>25</td>\n",
       "      <td>R</td>\n",
       "      <td>11.99</td>\n",
       "      <td>5</td>\n",
       "      <td>2005</td>\n",
       "      <td>0</td>\n",
       "    </tr>\n",
       "    <tr>\n",
       "      <th>3</th>\n",
       "      <td>982</td>\n",
       "      <td>1</td>\n",
       "      <td>R</td>\n",
       "      <td>23.99</td>\n",
       "      <td>2</td>\n",
       "      <td>2006</td>\n",
       "      <td>1</td>\n",
       "    </tr>\n",
       "    <tr>\n",
       "      <th>4</th>\n",
       "      <td>303</td>\n",
       "      <td>26</td>\n",
       "      <td>PG-13</td>\n",
       "      <td>27.99</td>\n",
       "      <td>5</td>\n",
       "      <td>2005</td>\n",
       "      <td>0</td>\n",
       "    </tr>\n",
       "    <tr>\n",
       "      <th>...</th>\n",
       "      <td>...</td>\n",
       "      <td>...</td>\n",
       "      <td>...</td>\n",
       "      <td>...</td>\n",
       "      <td>...</td>\n",
       "      <td>...</td>\n",
       "      <td>...</td>\n",
       "    </tr>\n",
       "    <tr>\n",
       "      <th>95</th>\n",
       "      <td>396</td>\n",
       "      <td>19</td>\n",
       "      <td>G</td>\n",
       "      <td>18.99</td>\n",
       "      <td>5</td>\n",
       "      <td>2005</td>\n",
       "      <td>0</td>\n",
       "    </tr>\n",
       "    <tr>\n",
       "      <th>96</th>\n",
       "      <td>109</td>\n",
       "      <td>30</td>\n",
       "      <td>G</td>\n",
       "      <td>17.99</td>\n",
       "      <td>5</td>\n",
       "      <td>2005</td>\n",
       "      <td>0</td>\n",
       "    </tr>\n",
       "    <tr>\n",
       "      <th>97</th>\n",
       "      <td>255</td>\n",
       "      <td>21</td>\n",
       "      <td>NC-17</td>\n",
       "      <td>21.99</td>\n",
       "      <td>5</td>\n",
       "      <td>2005</td>\n",
       "      <td>0</td>\n",
       "    </tr>\n",
       "    <tr>\n",
       "      <th>98</th>\n",
       "      <td>220</td>\n",
       "      <td>28</td>\n",
       "      <td>NC-17</td>\n",
       "      <td>13.99</td>\n",
       "      <td>5</td>\n",
       "      <td>2005</td>\n",
       "      <td>0</td>\n",
       "    </tr>\n",
       "    <tr>\n",
       "      <th>99</th>\n",
       "      <td>183</td>\n",
       "      <td>1</td>\n",
       "      <td>R</td>\n",
       "      <td>14.99</td>\n",
       "      <td>2</td>\n",
       "      <td>2006</td>\n",
       "      <td>1</td>\n",
       "    </tr>\n",
       "  </tbody>\n",
       "</table>\n",
       "<p>100 rows × 7 columns</p>\n",
       "</div>"
      ],
      "text/plain": [
       "    film_id  f_total_rentals rating  replacement_cost  rental_month  \\\n",
       "0       475                6      G             29.99             6   \n",
       "1       120                9  NC-17             16.99             5   \n",
       "2       856               25      R             11.99             5   \n",
       "3       982                1      R             23.99             2   \n",
       "4       303               26  PG-13             27.99             5   \n",
       "..      ...              ...    ...               ...           ...   \n",
       "95      396               19      G             18.99             5   \n",
       "96      109               30      G             17.99             5   \n",
       "97      255               21  NC-17             21.99             5   \n",
       "98      220               28  NC-17             13.99             5   \n",
       "99      183                1      R             14.99             2   \n",
       "\n",
       "    rental_year  target  \n",
       "0          2005       0  \n",
       "1          2005       0  \n",
       "2          2005       0  \n",
       "3          2006       1  \n",
       "4          2005       0  \n",
       "..          ...     ...  \n",
       "95         2005       0  \n",
       "96         2005       0  \n",
       "97         2005       0  \n",
       "98         2005       0  \n",
       "99         2006       1  \n",
       "\n",
       "[100 rows x 7 columns]"
      ]
     },
     "execution_count": 44,
     "metadata": {},
     "output_type": "execute_result"
    }
   ],
   "source": [
    "data.head(100)"
   ]
  },
  {
   "cell_type": "code",
   "execution_count": 45,
   "id": "66052b99",
   "metadata": {},
   "outputs": [
    {
     "name": "stdout",
     "output_type": "stream",
     "text": [
      "<class 'pandas.core.frame.DataFrame'>\n",
      "RangeIndex: 1126 entries, 0 to 1125\n",
      "Data columns (total 7 columns):\n",
      " #   Column            Non-Null Count  Dtype  \n",
      "---  ------            --------------  -----  \n",
      " 0   film_id           1126 non-null   int64  \n",
      " 1   f_total_rentals   1126 non-null   int64  \n",
      " 2   rating            1126 non-null   object \n",
      " 3   replacement_cost  1126 non-null   float64\n",
      " 4   rental_month      1126 non-null   int64  \n",
      " 5   rental_year       1126 non-null   int64  \n",
      " 6   target            1126 non-null   int64  \n",
      "dtypes: float64(1), int64(5), object(1)\n",
      "memory usage: 61.7+ KB\n"
     ]
    }
   ],
   "source": [
    "data.info()"
   ]
  },
  {
   "cell_type": "code",
   "execution_count": 46,
   "id": "852277ae",
   "metadata": {},
   "outputs": [
    {
     "data": {
      "text/html": [
       "<div>\n",
       "<style scoped>\n",
       "    .dataframe tbody tr th:only-of-type {\n",
       "        vertical-align: middle;\n",
       "    }\n",
       "\n",
       "    .dataframe tbody tr th {\n",
       "        vertical-align: top;\n",
       "    }\n",
       "\n",
       "    .dataframe thead th {\n",
       "        text-align: right;\n",
       "    }\n",
       "</style>\n",
       "<table border=\"1\" class=\"dataframe\">\n",
       "  <thead>\n",
       "    <tr style=\"text-align: right;\">\n",
       "      <th></th>\n",
       "      <th>film_id</th>\n",
       "      <th>f_total_rentals</th>\n",
       "      <th>replacement_cost</th>\n",
       "    </tr>\n",
       "  </thead>\n",
       "  <tbody>\n",
       "    <tr>\n",
       "      <th>0</th>\n",
       "      <td>-0.088430</td>\n",
       "      <td>-1.002550</td>\n",
       "      <td>1.660601</td>\n",
       "    </tr>\n",
       "    <tr>\n",
       "      <th>1</th>\n",
       "      <td>-1.316217</td>\n",
       "      <td>-0.637928</td>\n",
       "      <td>-0.492063</td>\n",
       "    </tr>\n",
       "    <tr>\n",
       "      <th>2</th>\n",
       "      <td>1.229280</td>\n",
       "      <td>1.306726</td>\n",
       "      <td>-1.320010</td>\n",
       "    </tr>\n",
       "    <tr>\n",
       "      <th>3</th>\n",
       "      <td>1.665058</td>\n",
       "      <td>-1.610254</td>\n",
       "      <td>0.667064</td>\n",
       "    </tr>\n",
       "    <tr>\n",
       "      <th>4</th>\n",
       "      <td>-0.683301</td>\n",
       "      <td>1.428267</td>\n",
       "      <td>1.329422</td>\n",
       "    </tr>\n",
       "  </tbody>\n",
       "</table>\n",
       "</div>"
      ],
      "text/plain": [
       "    film_id  f_total_rentals  replacement_cost\n",
       "0 -0.088430        -1.002550          1.660601\n",
       "1 -1.316217        -0.637928         -0.492063\n",
       "2  1.229280         1.306726         -1.320010\n",
       "3  1.665058        -1.610254          0.667064\n",
       "4 -0.683301         1.428267          1.329422"
      ]
     },
     "execution_count": 46,
     "metadata": {},
     "output_type": "execute_result"
    }
   ],
   "source": [
    "# Normalizing the data\n",
    "num = data.select_dtypes(include = np.number)\n",
    "num = num.drop(['target','rental_month','rental_year'], axis=1)\n",
    "\n",
    "transformer = StandardScaler().fit(num)\n",
    "num_normalized = transformer.transform(num)\n",
    "numerical = pd.DataFrame(num_normalized)\n",
    "numerical.columns = num.columns\n",
    "numerical.head()"
   ]
  },
  {
   "cell_type": "code",
   "execution_count": 47,
   "id": "f7005ebb",
   "metadata": {},
   "outputs": [],
   "source": [
    "cat = data.select_dtypes(include = np.object)\n",
    "categorical = pd.get_dummies(cat)"
   ]
  },
  {
   "cell_type": "code",
   "execution_count": 48,
   "id": "2d58998c",
   "metadata": {},
   "outputs": [
    {
     "data": {
      "text/html": [
       "<div>\n",
       "<style scoped>\n",
       "    .dataframe tbody tr th:only-of-type {\n",
       "        vertical-align: middle;\n",
       "    }\n",
       "\n",
       "    .dataframe tbody tr th {\n",
       "        vertical-align: top;\n",
       "    }\n",
       "\n",
       "    .dataframe thead th {\n",
       "        text-align: right;\n",
       "    }\n",
       "</style>\n",
       "<table border=\"1\" class=\"dataframe\">\n",
       "  <thead>\n",
       "    <tr style=\"text-align: right;\">\n",
       "      <th></th>\n",
       "      <th>rating_G</th>\n",
       "      <th>rating_NC-17</th>\n",
       "      <th>rating_PG</th>\n",
       "      <th>rating_PG-13</th>\n",
       "      <th>rating_R</th>\n",
       "    </tr>\n",
       "  </thead>\n",
       "  <tbody>\n",
       "    <tr>\n",
       "      <th>0</th>\n",
       "      <td>1</td>\n",
       "      <td>0</td>\n",
       "      <td>0</td>\n",
       "      <td>0</td>\n",
       "      <td>0</td>\n",
       "    </tr>\n",
       "    <tr>\n",
       "      <th>1</th>\n",
       "      <td>0</td>\n",
       "      <td>1</td>\n",
       "      <td>0</td>\n",
       "      <td>0</td>\n",
       "      <td>0</td>\n",
       "    </tr>\n",
       "    <tr>\n",
       "      <th>2</th>\n",
       "      <td>0</td>\n",
       "      <td>0</td>\n",
       "      <td>0</td>\n",
       "      <td>0</td>\n",
       "      <td>1</td>\n",
       "    </tr>\n",
       "    <tr>\n",
       "      <th>3</th>\n",
       "      <td>0</td>\n",
       "      <td>0</td>\n",
       "      <td>0</td>\n",
       "      <td>0</td>\n",
       "      <td>1</td>\n",
       "    </tr>\n",
       "    <tr>\n",
       "      <th>4</th>\n",
       "      <td>0</td>\n",
       "      <td>0</td>\n",
       "      <td>0</td>\n",
       "      <td>1</td>\n",
       "      <td>0</td>\n",
       "    </tr>\n",
       "  </tbody>\n",
       "</table>\n",
       "</div>"
      ],
      "text/plain": [
       "   rating_G  rating_NC-17  rating_PG  rating_PG-13  rating_R\n",
       "0         1             0          0             0         0\n",
       "1         0             1          0             0         0\n",
       "2         0             0          0             0         1\n",
       "3         0             0          0             0         1\n",
       "4         0             0          0             1         0"
      ]
     },
     "execution_count": 48,
     "metadata": {},
     "output_type": "execute_result"
    }
   ],
   "source": [
    "categorical.head()"
   ]
  },
  {
   "cell_type": "markdown",
   "id": "bd2ff1b8",
   "metadata": {},
   "source": [
    "#### 4. Create a query to get the list of films and a boolean indicating if it was rented last month. This would be our target variable."
   ]
  },
  {
   "cell_type": "code",
   "execution_count": 49,
   "id": "85b73df1",
   "metadata": {},
   "outputs": [],
   "source": [
    "X = pd.concat((numerical, categorical), axis=1)"
   ]
  },
  {
   "cell_type": "code",
   "execution_count": 50,
   "id": "0e42a390",
   "metadata": {},
   "outputs": [
    {
     "data": {
      "text/html": [
       "<div>\n",
       "<style scoped>\n",
       "    .dataframe tbody tr th:only-of-type {\n",
       "        vertical-align: middle;\n",
       "    }\n",
       "\n",
       "    .dataframe tbody tr th {\n",
       "        vertical-align: top;\n",
       "    }\n",
       "\n",
       "    .dataframe thead th {\n",
       "        text-align: right;\n",
       "    }\n",
       "</style>\n",
       "<table border=\"1\" class=\"dataframe\">\n",
       "  <thead>\n",
       "    <tr style=\"text-align: right;\">\n",
       "      <th></th>\n",
       "      <th>film_id</th>\n",
       "      <th>f_total_rentals</th>\n",
       "      <th>replacement_cost</th>\n",
       "      <th>rating_G</th>\n",
       "      <th>rating_NC-17</th>\n",
       "      <th>rating_PG</th>\n",
       "      <th>rating_PG-13</th>\n",
       "      <th>rating_R</th>\n",
       "    </tr>\n",
       "  </thead>\n",
       "  <tbody>\n",
       "    <tr>\n",
       "      <th>0</th>\n",
       "      <td>-0.088430</td>\n",
       "      <td>-1.002550</td>\n",
       "      <td>1.660601</td>\n",
       "      <td>1</td>\n",
       "      <td>0</td>\n",
       "      <td>0</td>\n",
       "      <td>0</td>\n",
       "      <td>0</td>\n",
       "    </tr>\n",
       "    <tr>\n",
       "      <th>1</th>\n",
       "      <td>-1.316217</td>\n",
       "      <td>-0.637928</td>\n",
       "      <td>-0.492063</td>\n",
       "      <td>0</td>\n",
       "      <td>1</td>\n",
       "      <td>0</td>\n",
       "      <td>0</td>\n",
       "      <td>0</td>\n",
       "    </tr>\n",
       "    <tr>\n",
       "      <th>2</th>\n",
       "      <td>1.229280</td>\n",
       "      <td>1.306726</td>\n",
       "      <td>-1.320010</td>\n",
       "      <td>0</td>\n",
       "      <td>0</td>\n",
       "      <td>0</td>\n",
       "      <td>0</td>\n",
       "      <td>1</td>\n",
       "    </tr>\n",
       "    <tr>\n",
       "      <th>3</th>\n",
       "      <td>1.665058</td>\n",
       "      <td>-1.610254</td>\n",
       "      <td>0.667064</td>\n",
       "      <td>0</td>\n",
       "      <td>0</td>\n",
       "      <td>0</td>\n",
       "      <td>0</td>\n",
       "      <td>1</td>\n",
       "    </tr>\n",
       "    <tr>\n",
       "      <th>4</th>\n",
       "      <td>-0.683301</td>\n",
       "      <td>1.428267</td>\n",
       "      <td>1.329422</td>\n",
       "      <td>0</td>\n",
       "      <td>0</td>\n",
       "      <td>0</td>\n",
       "      <td>1</td>\n",
       "      <td>0</td>\n",
       "    </tr>\n",
       "  </tbody>\n",
       "</table>\n",
       "</div>"
      ],
      "text/plain": [
       "    film_id  f_total_rentals  replacement_cost  rating_G  rating_NC-17  \\\n",
       "0 -0.088430        -1.002550          1.660601         1             0   \n",
       "1 -1.316217        -0.637928         -0.492063         0             1   \n",
       "2  1.229280         1.306726         -1.320010         0             0   \n",
       "3  1.665058        -1.610254          0.667064         0             0   \n",
       "4 -0.683301         1.428267          1.329422         0             0   \n",
       "\n",
       "   rating_PG  rating_PG-13  rating_R  \n",
       "0          0             0         0  \n",
       "1          0             0         0  \n",
       "2          0             0         1  \n",
       "3          0             0         1  \n",
       "4          0             1         0  "
      ]
     },
     "execution_count": 50,
     "metadata": {},
     "output_type": "execute_result"
    }
   ],
   "source": [
    "X.head()"
   ]
  },
  {
   "cell_type": "code",
   "execution_count": 51,
   "id": "a7be4a63",
   "metadata": {},
   "outputs": [],
   "source": [
    "y = data['target']"
   ]
  },
  {
   "cell_type": "code",
   "execution_count": 52,
   "id": "657007bd",
   "metadata": {},
   "outputs": [
    {
     "data": {
      "text/plain": [
       "0    0\n",
       "1    0\n",
       "2    0\n",
       "3    1\n",
       "4    0\n",
       "Name: target, dtype: int64"
      ]
     },
     "execution_count": 52,
     "metadata": {},
     "output_type": "execute_result"
    }
   ],
   "source": [
    "y.head()"
   ]
  },
  {
   "cell_type": "code",
   "execution_count": 53,
   "id": "07d49ec6",
   "metadata": {},
   "outputs": [],
   "source": [
    "# We separate training and testing datasets and correspondant targets\n",
    "X_train, X_test, y_train, y_test = train_test_split(X, y, test_size=0.3, random_state=100)"
   ]
  },
  {
   "cell_type": "code",
   "execution_count": 54,
   "id": "daf77b9b",
   "metadata": {},
   "outputs": [
    {
     "data": {
      "text/plain": [
       "788"
      ]
     },
     "execution_count": 54,
     "metadata": {},
     "output_type": "execute_result"
    }
   ],
   "source": [
    "len(X_train)"
   ]
  },
  {
   "cell_type": "code",
   "execution_count": 55,
   "id": "7765e4e7",
   "metadata": {},
   "outputs": [
    {
     "data": {
      "text/plain": [
       "788"
      ]
     },
     "execution_count": 55,
     "metadata": {},
     "output_type": "execute_result"
    }
   ],
   "source": [
    "len(y_train)"
   ]
  },
  {
   "cell_type": "code",
   "execution_count": 56,
   "id": "d00d729b",
   "metadata": {},
   "outputs": [
    {
     "data": {
      "text/plain": [
       "338"
      ]
     },
     "execution_count": 56,
     "metadata": {},
     "output_type": "execute_result"
    }
   ],
   "source": [
    "len(X_test)"
   ]
  },
  {
   "cell_type": "code",
   "execution_count": 57,
   "id": "64ace6ee",
   "metadata": {},
   "outputs": [
    {
     "data": {
      "text/plain": [
       "338"
      ]
     },
     "execution_count": 57,
     "metadata": {},
     "output_type": "execute_result"
    }
   ],
   "source": [
    "len(y_test)"
   ]
  },
  {
   "cell_type": "code",
   "execution_count": 58,
   "id": "12e03fbb",
   "metadata": {},
   "outputs": [],
   "source": [
    "# We traing the training dataset using Logistic Regression\n",
    "classification = LogisticRegression(random_state=0).fit(X_train, y_train)"
   ]
  },
  {
   "cell_type": "code",
   "execution_count": 59,
   "id": "06710a80",
   "metadata": {},
   "outputs": [],
   "source": [
    "# We predict on the testing dataset\n",
    "predictions = classification.predict(X_test)"
   ]
  },
  {
   "cell_type": "markdown",
   "id": "0b1d15ff",
   "metadata": {},
   "source": [
    "#### Check how well the model performs"
   ]
  },
  {
   "cell_type": "code",
   "execution_count": 60,
   "id": "ff8f8fa5",
   "metadata": {},
   "outputs": [
    {
     "data": {
      "text/plain": [
       "0    284\n",
       "1     54\n",
       "dtype: int64"
      ]
     },
     "execution_count": 60,
     "metadata": {},
     "output_type": "execute_result"
    }
   ],
   "source": [
    "pd.Series(predictions).value_counts()"
   ]
  },
  {
   "cell_type": "code",
   "execution_count": 61,
   "id": "02ccba9c",
   "metadata": {},
   "outputs": [
    {
     "data": {
      "text/plain": [
       "0    284\n",
       "1     54\n",
       "Name: target, dtype: int64"
      ]
     },
     "execution_count": 61,
     "metadata": {},
     "output_type": "execute_result"
    }
   ],
   "source": [
    "y_test.value_counts()"
   ]
  },
  {
   "cell_type": "code",
   "execution_count": 62,
   "id": "1acd1c6f",
   "metadata": {},
   "outputs": [
    {
     "data": {
      "text/plain": [
       "array([[284,   0],\n",
       "       [  0,  54]], dtype=int64)"
      ]
     },
     "execution_count": 62,
     "metadata": {},
     "output_type": "execute_result"
    }
   ],
   "source": [
    "from sklearn.metrics import confusion_matrix\n",
    "confusion_matrix(y_test, predictions)"
   ]
  },
  {
   "cell_type": "code",
   "execution_count": 65,
   "id": "60563068",
   "metadata": {},
   "outputs": [
    {
     "data": {
      "text/plain": [
       "<AxesSubplot:>"
      ]
     },
     "execution_count": 65,
     "metadata": {},
     "output_type": "execute_result"
    },
    {
     "data": {
      "image/png": "[encoded data removed]",
      "text/plain": [
       "<Figure size 432x288 with 2 Axes>"
      ]
     },
     "metadata": {
      "needs_background": "light"
     },
     "output_type": "display_data"
    }
   ],
   "source": [
    "from sklearn.metrics import confusion_matrix\n",
    "cm = confusion_matrix(y_test, predictions)\n",
    "sns.heatmap(cm, annot=True,fmt='g')"
   ]
  },
  {
   "cell_type": "code",
   "execution_count": 68,
   "id": "3f97710f",
   "metadata": {},
   "outputs": [
    {
     "data": {
      "text/plain": [
       "1.0"
      ]
     },
     "execution_count": 68,
     "metadata": {},
     "output_type": "execute_result"
    }
   ],
   "source": [
    "# Accuracy\n",
    "classification.score(X_test, y_test)"
   ]
  },
  {
   "cell_type": "code",
   "execution_count": 66,
   "id": "e0505745",
   "metadata": {},
   "outputs": [
    {
     "name": "stdout",
     "output_type": "stream",
     "text": [
      "\n",
      "Accuracy: 1.00\n",
      "\n"
     ]
    }
   ],
   "source": [
    "# Accuracy\n",
    "from sklearn.metrics import accuracy_score\n",
    "print('\\nAccuracy: {:.2f}\\n'.format(accuracy_score(y_test, predictions)))"
   ]
  },
  {
   "cell_type": "code",
   "execution_count": 67,
   "id": "fd8590af",
   "metadata": {},
   "outputs": [
    {
     "data": {
      "text/plain": [
       "[<matplotlib.lines.Line2D at 0x23edd90c760>]"
      ]
     },
     "execution_count": 67,
     "metadata": {},
     "output_type": "execute_result"
    },
    {
     "data": {
      "image/png": "[encoded data removed]",
      "text/plain": [
       "<Figure size 432x288 with 1 Axes>"
      ]
     },
     "metadata": {
      "needs_background": "light"
     },
     "output_type": "display_data"
    }
   ],
   "source": [
    "from sklearn import metrics\n",
    "import matplotlib.pyplot as plt\n",
    "\n",
    "y_pred_proba = classification.predict_proba(X_test)[::,1]\n",
    "fpr, tpr, _ = metrics.roc_curve(y_test,  y_pred_proba)\n",
    "auc = metrics.roc_auc_score(y_test, y_pred_proba)\n",
    "plt.plot(fpr,tpr)"
   ]
  }
 ],
 "metadata": {
  "kernelspec": {
   "display_name": "Python 3",
   "language": "python",
   "name": "python3"
  },
  "language_info": {
   "codemirror_mode": {
    "name": "ipython",
    "version": 3
   },
   "file_extension": ".py",
   "mimetype": "text/x-python",
   "name": "python",
   "nbconvert_exporter": "python",
   "pygments_lexer": "ipython3",
   "version": "3.8.8"
  }
 },
 "nbformat": 4,
 "nbformat_minor": 5
}
